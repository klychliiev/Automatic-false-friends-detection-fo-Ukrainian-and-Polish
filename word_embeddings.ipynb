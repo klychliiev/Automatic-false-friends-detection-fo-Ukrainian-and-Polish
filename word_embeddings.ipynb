{
  "nbformat": 4,
  "nbformat_minor": 0,
  "metadata": {
    "colab": {
      "provenance": [],
      "gpuType": "T4"
    },
    "kernelspec": {
      "name": "python3",
      "display_name": "Python 3"
    },
    "language_info": {
      "name": "python"
    },
    "accelerator": "GPU",
    "gpuClass": "standard"
  },
  "cells": [
    {
      "cell_type": "code",
      "source": [
        "!pip install fasttext scipy"
      ],
      "metadata": {
        "colab": {
          "base_uri": "https://localhost:8080/"
        },
        "id": "77QsEFjUSHy2",
        "outputId": "828a74c9-08c7-4543-d612-103867714738"
      },
      "execution_count": 1,
      "outputs": [
        {
          "output_type": "stream",
          "name": "stdout",
          "text": [
            "Looking in indexes: https://pypi.org/simple, https://us-python.pkg.dev/colab-wheels/public/simple/\n",
            "Requirement already satisfied: fasttext in /usr/local/lib/python3.10/dist-packages (0.9.2)\n",
            "Requirement already satisfied: scipy in /usr/local/lib/python3.10/dist-packages (1.10.1)\n",
            "Requirement already satisfied: pybind11>=2.2 in /usr/local/lib/python3.10/dist-packages (from fasttext) (2.10.4)\n",
            "Requirement already satisfied: setuptools>=0.7.0 in /usr/local/lib/python3.10/dist-packages (from fasttext) (67.7.2)\n",
            "Requirement already satisfied: numpy in /usr/local/lib/python3.10/dist-packages (from fasttext) (1.22.4)\n"
          ]
        }
      ]
    },
    {
      "cell_type": "code",
      "execution_count": 2,
      "metadata": {
        "id": "asg6yAgSg3_c"
      },
      "outputs": [],
      "source": [
        "import nltk\n",
        "import fasttext\n",
        "from gensim.models import FastText\n",
        "from sklearn.decomposition import PCA\n",
        "import matplotlib.pyplot as plt\n",
        "from scipy import spatial\n",
        "from sklearn.metrics.pairwise import cosine_similarity"
      ]
    },
    {
      "cell_type": "code",
      "source": [
        "from google.colab import drive\n",
        "drive.mount('/content/drive/')"
      ],
      "metadata": {
        "colab": {
          "base_uri": "https://localhost:8080/"
        },
        "id": "mHng-GI-z39b",
        "outputId": "e1c6e900-eebd-4a9d-97f7-ddef43b5eb68"
      },
      "execution_count": 3,
      "outputs": [
        {
          "output_type": "stream",
          "name": "stdout",
          "text": [
            "Drive already mounted at /content/drive/; to attempt to forcibly remount, call drive.mount(\"/content/drive/\", force_remount=True).\n"
          ]
        }
      ]
    },
    {
      "cell_type": "code",
      "source": [
        "cd drive/MyDrive/курсова"
      ],
      "metadata": {
        "colab": {
          "base_uri": "https://localhost:8080/"
        },
        "id": "_tiK3CIBYH5I",
        "outputId": "ab21f001-4aa2-476c-d93b-54662e5adee2"
      },
      "execution_count": 4,
      "outputs": [
        {
          "output_type": "stream",
          "name": "stdout",
          "text": [
            "/content/drive/MyDrive/курсова\n"
          ]
        }
      ]
    },
    {
      "cell_type": "code",
      "source": [
        "ls"
      ],
      "metadata": {
        "colab": {
          "base_uri": "https://localhost:8080/"
        },
        "id": "H-DMQRkSZ0vX",
        "outputId": "e03ba831-94ce-47a6-ad58-9b18c3584bec"
      },
      "execution_count": 5,
      "outputs": [
        {
          "output_type": "stream",
          "name": "stdout",
          "text": [
            "cc.pl.300.bin  cognates.py                    main.ipynb          ukr_pol_ds.py\n",
            "cc.uk.300.bin  false_friends_detection.ipynb  modified.csv        ukr_pol.py\n",
            "cognates.csv   false-friends_sp-pr.pdf        tyhrolovy_vecs.bin\n"
          ]
        }
      ]
    },
    {
      "cell_type": "markdown",
      "source": [
        "## Loading language vectors"
      ],
      "metadata": {
        "id": "7BO4yIMgZ5wQ"
      }
    },
    {
      "cell_type": "code",
      "source": [
        "model_uk = fasttext.load_model('cc.uk.300.bin')"
      ],
      "metadata": {
        "id": "Bg2ieNB4fk3S",
        "colab": {
          "base_uri": "https://localhost:8080/"
        },
        "outputId": "220ded25-82a6-45ce-c340-d303d4e84afb"
      },
      "execution_count": 6,
      "outputs": [
        {
          "output_type": "stream",
          "name": "stderr",
          "text": [
            "Warning : `load_model` does not return WordVectorModel or SupervisedModel any more, but a `FastText` object which is very similar.\n"
          ]
        }
      ]
    },
    {
      "cell_type": "code",
      "source": [
        "model_pl = fasttext.load_model('cc.pl.300.bin')"
      ],
      "metadata": {
        "colab": {
          "base_uri": "https://localhost:8080/"
        },
        "id": "dsi-c8-sQjNu",
        "outputId": "15aea80c-3835-477a-d081-5bd9020e9552"
      },
      "execution_count": 6,
      "outputs": [
        {
          "output_type": "stream",
          "name": "stderr",
          "text": [
            "Warning : `load_model` does not return WordVectorModel or SupervisedModel any more, but a `FastText` object which is very similar.\n"
          ]
        }
      ]
    },
    {
      "cell_type": "markdown",
      "source": [
        "## Vector exploration"
      ],
      "metadata": {
        "id": "HnAxTASGbRFJ"
      }
    },
    {
      "cell_type": "code",
      "source": [
        "word_vectors = model_pl.get_word_vector('pies')"
      ],
      "metadata": {
        "id": "E106yCzHz6fG"
      },
      "execution_count": null,
      "outputs": []
    },
    {
      "cell_type": "code",
      "source": [
        "uk_vectors = [\"Варшава\", \"Познань\", \"Одеса\", \"Харків\", \"Вроцлав\",\"Ченстохова\", \"Київ\", \"стіна\", \"стеля\"]\n",
        "\n",
        "word_vectors_subset = [model_uk.get_word_vector(word) for word in uk_vectors]\n",
        "\n",
        "# Perform dimensionality reduction\n",
        "pca = PCA(n_components=2)  # Change to 3 for 3D visualization\n",
        "word_vectors_2d = pca.fit_transform(word_vectors_subset)\n",
        "\n",
        "# Create a scatter plot of the word vectors\n",
        "plt.figure(figsize=(10, 6))\n",
        "plt.scatter(word_vectors_2d[:, 0], word_vectors_2d[:, 1])\n",
        "\n",
        "\n",
        "# Add labels for each word\n",
        "for i, word in enumerate(uk_vectors):\n",
        "    plt.annotate(word, xy=(word_vectors_2d[i, 0], word_vectors_2d[i, 1]))\n",
        "\n",
        "# Show the plot\n",
        "plt.show()"
      ],
      "metadata": {
        "colab": {
          "base_uri": "https://localhost:8080/",
          "height": 467
        },
        "id": "nLxsUuMpysFM",
        "outputId": "366047c6-0a5e-41b5-e34f-90a3df0079aa"
      },
      "execution_count": 35,
      "outputs": [
        {
          "output_type": "display_data",
          "data": {
            "text/plain": [
              "<Figure size 1000x600 with 1 Axes>"
            ],
            "image/png": "[encoded data removed]"
          },
          "metadata": {}
        }
      ]
    },
    {
      "cell_type": "code",
      "source": [
        "pl_vectors = ['Kijów', 'Charków', 'Odesa', 'Warszawa', 'dywan']\n",
        "\n",
        "\n",
        "word_vectors_subset = [model_pl.get_word_vector(word) for word in pl_vectors]\n",
        "\n",
        "# Perform dimensionality reduction\n",
        "pca = PCA(n_components=2)  # Change to 3 for 3D visualization\n",
        "word_vectors_2d = pca.fit_transform(word_vectors_subset)\n",
        "\n",
        "# Create a scatter plot of the word vectors\n",
        "plt.figure(figsize=(10, 6))\n",
        "plt.scatter(word_vectors_2d[:, 0], word_vectors_2d[:, 1])\n",
        "\n",
        "\n",
        "# Add labels for each word\n",
        "for i, word in enumerate(pl_vectors):\n",
        "    plt.annotate(word, xy=(word_vectors_2d[i, 0], word_vectors_2d[i, 1]))\n",
        "\n",
        "# Show the plot\n",
        "plt.show()"
      ],
      "metadata": {
        "id": "aq74Egeu0EEM",
        "colab": {
          "base_uri": "https://localhost:8080/",
          "height": 464
        },
        "outputId": "c27e5cf3-492e-4b80-d15d-f2b699a31b50"
      },
      "execution_count": 11,
      "outputs": [
        {
          "output_type": "display_data",
          "data": {
            "text/plain": [
              "<Figure size 1000x600 with 1 Axes>"
            ],
            "image/png": "[encoded data removed]"
          },
          "metadata": {}
        }
      ]
    },
    {
      "cell_type": "code",
      "source": [
        "word_vectors_subset = [model_pl.get_word_vector(word) for word in words_to_visulaize]\n"
      ],
      "metadata": {
        "id": "NKd9qSTY0K00"
      },
      "execution_count": null,
      "outputs": []
    },
    {
      "cell_type": "code",
      "source": [
        "def spatialDistance(vector1, vector2):\n",
        "    return spatial.distance.euclidean(vector1, vector2)\n",
        "\n",
        "spatialDistance(word_vectors_subset[1], word_vectors_subset[2])"
      ],
      "metadata": {
        "colab": {
          "base_uri": "https://localhost:8080/"
        },
        "id": "nyNXCLsX3LQH",
        "outputId": "b67e7d8c-4ad7-4086-e517-b420c21a0d51"
      },
      "execution_count": null,
      "outputs": [
        {
          "output_type": "execute_result",
          "data": {
            "text/plain": [
              "1.160095453262329"
            ]
          },
          "metadata": {},
          "execution_count": 11
        }
      ]
    },
    {
      "cell_type": "code",
      "source": [
        "# Perform dimensionality reduction\n",
        "pca = PCA(n_components=2)  # Change to 3 for 3D visualization\n",
        "word_vectors_2d = pca.fit_transform(word_vectors_subset)"
      ],
      "metadata": {
        "id": "tK-STAIM03nE"
      },
      "execution_count": null,
      "outputs": []
    },
    {
      "cell_type": "code",
      "source": [
        "# Create a scatter plot of the word vectors\n",
        "plt.figure(figsize=(10, 6))\n",
        "plt.scatter(word_vectors_2d[:, 0], word_vectors_2d[:, 1])\n",
        "\n",
        "# Add labels for each word\n",
        "for i, word in enumerate(words_to_visulaize):\n",
        "    plt.annotate(word, xy=(word_vectors_2d[i, 0], word_vectors_2d[i, 1]))\n",
        "\n",
        "# Show the plot\n",
        "plt.show()"
      ],
      "metadata": {
        "colab": {
          "base_uri": "https://localhost:8080/",
          "height": 522
        },
        "id": "cUaoKYHy078Y",
        "outputId": "7eddf573-719c-4c87-d05e-03c0ddc2631c"
      },
      "execution_count": null,
      "outputs": [
        {
          "output_type": "display_data",
          "data": {
            "text/plain": [
              "<Figure size 1000x600 with 1 Axes>"
            ],
            "image/png": "[encoded data removed]"
          },
          "metadata": {}
        }
      ]
    },
    {
      "cell_type": "code",
      "source": [
        "model_pl.get_nearest_neighbors('Tarnopol', k=20)"
      ],
      "metadata": {
        "colab": {
          "base_uri": "https://localhost:8080/"
        },
        "id": "Ztvw1IRHgkyk",
        "outputId": "4ec4101e-9f27-4894-edb4-2a88a01590f2"
      },
      "execution_count": null,
      "outputs": [
        {
          "output_type": "execute_result",
          "data": {
            "text/plain": [
              "[(0.6619117259979248, 'Tarnopo'),\n",
              " (0.6609591841697693, 'Tarnopolskie'),\n",
              " (0.6594625115394592, 'Tarnopolski'),\n",
              " (0.6581240296363831, 'TarnopolNywa'),\n",
              " (0.6484225392341614, 'Lwów'),\n",
              " (0.6367254853248596, 'Żytomierz'),\n",
              " (0.6298438906669617, 'tarnopolski'),\n",
              " (0.6296219229698181, 'TarnopolFK'),\n",
              " (0.6280732154846191, 'Tarnopolskim'),\n",
              " (0.6194287538528442, 'Tarnopola'),\n",
              " (0.6168087124824524, 'WęgryTarnopol'),\n",
              " (0.61272794008255, 'Tarnopolu'),\n",
              " (0.6102651953697205, 'Brzeżany'),\n",
              " (0.6044431328773499, 'Rohatyn'),\n",
              " (0.59547358751297, 'Tarnopolskiem'),\n",
              " (0.5941257476806641, 'Złoczów'),\n",
              " (0.5906077027320862, 'Tarnopolska'),\n",
              " (0.5902125239372253, 'tarnopolskie'),\n",
              " (0.5867614150047302, 'Podhajce'),\n",
              " (0.5865432620048523, 'Żydaczów')]"
            ]
          },
          "metadata": {},
          "execution_count": 14
        }
      ]
    },
    {
      "cell_type": "code",
      "source": [
        "model_uk.get_word_vector('машина').shape"
      ],
      "metadata": {
        "colab": {
          "base_uri": "https://localhost:8080/"
        },
        "id": "V76Ka1YJlkmO",
        "outputId": "cc55a7a6-bcc4-4816-c459-795592bee8b8"
      },
      "execution_count": null,
      "outputs": [
        {
          "output_type": "execute_result",
          "data": {
            "text/plain": [
              "(300,)"
            ]
          },
          "metadata": {},
          "execution_count": 74
        }
      ]
    },
    {
      "cell_type": "code",
      "source": [
        "model_uk.get_analogies('Варшава', 'Польща', 'Україна')"
      ],
      "metadata": {
        "colab": {
          "base_uri": "https://localhost:8080/"
        },
        "id": "Lkwdwk2-l9ry",
        "outputId": "3dcd5015-1bde-4d0c-84d2-097c7c66fa2f"
      },
      "execution_count": 41,
      "outputs": [
        {
          "output_type": "execute_result",
          "data": {
            "text/plain": [
              "[(0.6110314130783081, 'Київ'),\n",
              " (0.6055029630661011, 'Москва'),\n",
              " (0.5506971478462219, 'Одеса'),\n",
              " (0.5502026081085205, 'Київ-Варшава'),\n",
              " (0.539129912853241, 'Харків-Варшава'),\n",
              " (0.5382523536682129, 'Київ-Нью-Йорк'),\n",
              " (0.5381291508674622, 'Львів-Варшава'),\n",
              " (0.5311408638954163, 'Європа'),\n",
              " (0.529330849647522, 'Україна2'),\n",
              " (0.5263713598251343, 'Київ-Прага')]"
            ]
          },
          "metadata": {},
          "execution_count": 41
        }
      ]
    },
    {
      "cell_type": "code",
      "source": [
        "model_uk.get_analogies('Київ', 'Україна', 'Японія')"
      ],
      "metadata": {
        "colab": {
          "base_uri": "https://localhost:8080/"
        },
        "id": "JxOTeB4unUHv",
        "outputId": "e1844943-ef57-4905-bd71-4c109b40564a"
      },
      "execution_count": null,
      "outputs": [
        {
          "output_type": "execute_result",
          "data": {
            "text/plain": [
              "[(0.6316195130348206, 'Токіо'),\n",
              " (0.5954586863517761, 'Кіото'),\n",
              " (0.5291852951049805, 'Токіо-Наріта'),\n",
              " (0.5268515348434448, 'Япон'),\n",
              " (0.5254097580909729, 'Хамамацу'),\n",
              " (0.5220339298248291, 'Нагоя'),\n",
              " (0.520989179611206, 'Кітакюсю'),\n",
              " (0.5202122330665588, 'Японіі'),\n",
              " (0.519186794757843, 'Токіомі'),\n",
              " (0.5158222913742065, 'Кобе')]"
            ]
          },
          "metadata": {},
          "execution_count": 73
        }
      ]
    },
    {
      "cell_type": "markdown",
      "source": [
        "### Pipeline\n",
        "1. text in l1 and l2 is given as input\n",
        "2. the text is preprocessed to get lemmas and content words\n",
        "3. output context words\n",
        "4. candidate selection\n",
        "5. fasttext vectors and multilingual dictionaries to align english french  embeddings to italian ones\n",
        "6. ccosine similarity between semantic vector spaces of Wit and Wl from the aligned semantic spaces\n"
      ],
      "metadata": {
        "id": "FTkz0RU3hkXj"
      }
    },
    {
      "cell_type": "code",
      "source": [
        "\n",
        "# Python3 implementation of above approach\n",
        "from math import floor, ceil\n",
        "\n",
        "# Function to calculate the\n",
        "# Jaro Similarity of two s\n",
        "def jaro_distance(s1, s2):\n",
        "\n",
        "    # If the s are equal\n",
        "    if (s1 == s2):\n",
        "        return 1.0\n",
        "\n",
        "    # Length of two s\n",
        "    len1 = len(s1)\n",
        "    len2 = len(s2)\n",
        "\n",
        "    # Maximum distance upto which matching\n",
        "    # is allowed\n",
        "    max_dist = floor(max(len1, len2) / 2) - 1\n",
        "\n",
        "    # Count of matches\n",
        "    match = 0\n",
        "\n",
        "    # Hash for matches\n",
        "    hash_s1 = [0] * len(s1)\n",
        "    hash_s2 = [0] * len(s2)\n",
        "\n",
        "    # Traverse through the first\n",
        "    for i in range(len1):\n",
        "\n",
        "        # Check if there is any matches\n",
        "        for j in range(max(0, i - max_dist),\n",
        "                       min(len2, i + max_dist + 1)):\n",
        "\n",
        "            # If there is a match\n",
        "            if (s1[i] == s2[j] and hash_s2[j] == 0):\n",
        "                hash_s1[i] = 1\n",
        "                hash_s2[j] = 1\n",
        "                match += 1\n",
        "                break\n",
        "\n",
        "    # If there is no match\n",
        "    if (match == 0):\n",
        "        return 0.0\n",
        "\n",
        "    # Number of transpositions\n",
        "    t = 0\n",
        "    point = 0\n",
        "\n",
        "    # Count number of occurrences\n",
        "    # where two characters match but\n",
        "    # there is a third matched character\n",
        "    # in between the indices\n",
        "    for i in range(len1):\n",
        "        if (hash_s1[i]):\n",
        "\n",
        "            # Find the next matched character\n",
        "            # in second\n",
        "            while (hash_s2[point] == 0):\n",
        "                point += 1\n",
        "\n",
        "            if (s1[i] != s2[point]):\n",
        "                t += 1\n",
        "            point += 1\n",
        "    t = t//2\n",
        "\n",
        "    # Return the Jaro Similarity\n",
        "    return (match/ len1 + match / len2 +\n",
        "            (match - t) / match)/ 3.0\n",
        "\n",
        "# Driver code\n",
        "s1 = \"утро\"\n",
        "s2 = \"ютро\"\n",
        "\n",
        "# Prjaro Similarity of two s\n",
        "print(round(jaro_distance(s1, s2),6))\n",
        "\n",
        "# This code is contributed by mohit kumar 29"
      ],
      "metadata": {
        "colab": {
          "base_uri": "https://localhost:8080/"
        },
        "id": "AbQs4TTviUPy",
        "outputId": "f9e3a467-89e6-494d-cd47-5f08ec331276"
      },
      "execution_count": null,
      "outputs": [
        {
          "output_type": "stream",
          "name": "stdout",
          "text": [
            "0.833333\n"
          ]
        }
      ]
    },
    {
      "cell_type": "code",
      "source": [
        "!pip install fasttext"
      ],
      "metadata": {
        "colab": {
          "base_uri": "https://localhost:8080/"
        },
        "id": "uy-7x90mju84",
        "outputId": "0d068af1-006b-49ff-9bf2-effbc2011419"
      },
      "execution_count": null,
      "outputs": [
        {
          "output_type": "stream",
          "name": "stdout",
          "text": [
            "Looking in indexes: https://pypi.org/simple, https://us-python.pkg.dev/colab-wheels/public/simple/\n",
            "Collecting fasttext\n",
            "  Downloading fasttext-0.9.2.tar.gz (68 kB)\n",
            "\u001b[2K     \u001b[90m━━━━━━━━━━━━━━━━━━━━━━━━━━━━━━━━━━━━━━━━\u001b[0m \u001b[32m68.8/68.8 kB\u001b[0m \u001b[31m4.2 MB/s\u001b[0m eta \u001b[36m0:00:00\u001b[0m\n",
            "\u001b[?25h  Preparing metadata (setup.py) ... \u001b[?25l\u001b[?25hdone\n",
            "Collecting pybind11>=2.2 (from fasttext)\n",
            "  Using cached pybind11-2.10.4-py3-none-any.whl (222 kB)\n",
            "Requirement already satisfied: setuptools>=0.7.0 in /usr/local/lib/python3.10/dist-packages (from fasttext) (67.7.2)\n",
            "Requirement already satisfied: numpy in /usr/local/lib/python3.10/dist-packages (from fasttext) (1.22.4)\n",
            "Building wheels for collected packages: fasttext\n",
            "  Building wheel for fasttext (setup.py) ... \u001b[?25l\u001b[?25hdone\n",
            "  Created wheel for fasttext: filename=fasttext-0.9.2-cp310-cp310-linux_x86_64.whl size=4393324 sha256=254980f7ba1973335fa76d8bcbd7d0bfab7bd78539842f1b4ce073161f71804f\n",
            "  Stored in directory: /root/.cache/pip/wheels/a5/13/75/f811c84a8ab36eedbaef977a6a58a98990e8e0f1967f98f394\n",
            "Successfully built fasttext\n",
            "Installing collected packages: pybind11, fasttext\n",
            "Successfully installed fasttext-0.9.2 pybind11-2.10.4\n"
          ]
        }
      ]
    },
    {
      "cell_type": "code",
      "source": [
        "import fasttext"
      ],
      "metadata": {
        "id": "njSj0K-fE8Zs"
      },
      "execution_count": null,
      "outputs": []
    },
    {
      "cell_type": "code",
      "source": [],
      "metadata": {
        "id": "dTkCTJRUFwJN"
      },
      "execution_count": null,
      "outputs": []
    }
  ]
}