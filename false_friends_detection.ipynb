{
  "cells": [
    {
      "cell_type": "code",
      "source": [
        "!pip install fasttext"
      ],
      "metadata": {
        "id": "ewU0xzobsKoU",
        "colab": {
          "base_uri": "https://localhost:8080/"
        },
        "outputId": "0948da06-4819-465d-edbd-4f97628c1cf6"
      },
      "execution_count": 3,
      "outputs": [
        {
          "output_type": "stream",
          "name": "stdout",
          "text": [
            "Looking in indexes: https://pypi.org/simple, https://us-python.pkg.dev/colab-wheels/public/simple/\n",
            "Collecting fasttext\n",
            "  Downloading fasttext-0.9.2.tar.gz (68 kB)\n",
            "\u001b[2K     \u001b[90m━━━━━━━━━━━━━━━━━━━━━━━━━━━━━━━━━━━━━━━━\u001b[0m \u001b[32m68.8/68.8 kB\u001b[0m \u001b[31m2.3 MB/s\u001b[0m eta \u001b[36m0:00:00\u001b[0m\n",
            "\u001b[?25h  Preparing metadata (setup.py) ... \u001b[?25l\u001b[?25hdone\n",
            "Requirement already satisfied: scipy in /usr/local/lib/python3.10/dist-packages (1.10.1)\n",
            "Collecting pybind11>=2.2 (from fasttext)\n",
            "  Using cached pybind11-2.10.4-py3-none-any.whl (222 kB)\n",
            "Requirement already satisfied: setuptools>=0.7.0 in /usr/local/lib/python3.10/dist-packages (from fasttext) (67.7.2)\n",
            "Requirement already satisfied: numpy in /usr/local/lib/python3.10/dist-packages (from fasttext) (1.22.4)\n",
            "Building wheels for collected packages: fasttext\n",
            "  Building wheel for fasttext (setup.py) ... \u001b[?25l\u001b[?25hdone\n",
            "  Created wheel for fasttext: filename=fasttext-0.9.2-cp310-cp310-linux_x86_64.whl size=4393402 sha256=1a9698371faf6ca1846f2f06d5392c70e4f650921ea577084ee67726f4f94368\n",
            "  Stored in directory: /root/.cache/pip/wheels/a5/13/75/f811c84a8ab36eedbaef977a6a58a98990e8e0f1967f98f394\n",
            "Successfully built fasttext\n",
            "Installing collected packages: pybind11, fasttext\n",
            "Successfully installed fasttext-0.9.2 pybind11-2.10.4\n"
          ]
        }
      ]
    },
    {
      "cell_type": "code",
      "execution_count": 284,
      "metadata": {
        "id": "asg6yAgSg3_c"
      },
      "outputs": [],
      "source": [
        "import fasttext\n",
        "from sklearn.decomposition import PCA\n",
        "import matplotlib.pyplot as plt\n",
        "from sklearn.metrics.pairwise import cosine_similarity\n",
        "import pandas as pd\n",
        "from sklearn.metrics import classification_report, confusion_matrix\n",
        "import seaborn as sns\n",
        "import matplotlib.pyplot as plt"
      ]
    },
    {
      "cell_type": "code",
      "execution_count": 75,
      "metadata": {
        "id": "mHng-GI-z39b",
        "colab": {
          "base_uri": "https://localhost:8080/"
        },
        "outputId": "f4d96111-2d97-4cdf-88d5-87cca43cab61"
      },
      "outputs": [
        {
          "output_type": "stream",
          "name": "stdout",
          "text": [
            "Drive already mounted at /content/drive; to attempt to forcibly remount, call drive.mount(\"/content/drive\", force_remount=True).\n"
          ]
        }
      ],
      "source": [
        "from google.colab import drive\n",
        "drive.mount('/content/drive')"
      ]
    },
    {
      "cell_type": "code",
      "execution_count": 76,
      "metadata": {
        "colab": {
          "base_uri": "https://localhost:8080/"
        },
        "id": "_tiK3CIBYH5I",
        "outputId": "5f2943b0-943a-490e-eabc-fa535e401aaf"
      },
      "outputs": [
        {
          "output_type": "stream",
          "name": "stdout",
          "text": [
            "/content/drive/MyDrive/курсова\n"
          ]
        }
      ],
      "source": [
        "cd /content/drive/MyDrive/курсова"
      ]
    },
    {
      "cell_type": "code",
      "execution_count": 77,
      "metadata": {
        "colab": {
          "base_uri": "https://localhost:8080/"
        },
        "id": "vmxWNzNYpjdY",
        "outputId": "6975463e-5ad4-4508-9383-ad0e33c51d83"
      },
      "outputs": [
        {
          "output_type": "stream",
          "name": "stdout",
          "text": [
            " cc.pl.300.bin                    pl.txt\n",
            " cc.uk.300.bin                    \u001b[0m\u001b[01;34m__pycache__\u001b[0m/\n",
            " cognates.csv                     tyhrolovy_vecs.bin\n",
            " cognates.py                      ukr_pol_ds.py\n",
            "'Copy of word_embeddings.ipynb'   ukr_pol.py\n",
            " dataset.csv                      uk.txt\n",
            " event_log.txt                    updated_dataset.csv\n",
            " false-friends_sp-pr.pdf          wiki.pl.vec\n",
            " fast_vector.py                   wiki.uk.vec\n",
            " main.ipynb                       word_embeddings.ipynb\n",
            " modified.csv\n"
          ]
        }
      ],
      "source": [
        "ls"
      ]
    },
    {
      "cell_type": "code",
      "execution_count": 8,
      "metadata": {
        "colab": {
          "base_uri": "https://localhost:8080/"
        },
        "id": "H-DMQRkSZ0vX",
        "outputId": "51936111-cc10-476d-9f07-5932d0c99e55"
      },
      "outputs": [
        {
          "output_type": "stream",
          "name": "stdout",
          "text": [
            "cp: missing destination file operand after 'drive/MyDrive/курсова/fast_vector.py'\n",
            "Try 'cp --help' for more information.\n"
          ]
        }
      ],
      "source": [
        "!cp drive/MyDrive/курсова/fast_vector.py"
      ]
    },
    {
      "cell_type": "markdown",
      "source": [
        "## Filter dataset for words predicted as homographs"
      ],
      "metadata": {
        "id": "NZQ0YelF14Wp"
      }
    },
    {
      "cell_type": "code",
      "source": [
        "df = pd.read_csv('updated_dataset.csv')"
      ],
      "metadata": {
        "id": "_tzM1GDCgF_D"
      },
      "execution_count": 218,
      "outputs": []
    },
    {
      "cell_type": "code",
      "source": [
        "filtered_df = df[df['predictions']==1]\n",
        "filtered_df"
      ],
      "metadata": {
        "colab": {
          "base_uri": "https://localhost:8080/",
          "height": 485
        },
        "id": "lQtRewrLgOQp",
        "outputId": "7ffeeb42-e46c-4ea4-d570-1782e29376c2"
      },
      "execution_count": 220,
      "outputs": [
        {
          "output_type": "execute_result",
          "data": {
            "text/plain": [
              "     Unnamed: 0   id            pl               uk  false_friends  \\\n",
              "0             0    1     śniadanie         сніданок              0   \n",
              "1             1    2  wegetarianin  вегетаріанський              0   \n",
              "2             2    3         napój            напій              0   \n",
              "3             3    4          kawa             кава              0   \n",
              "4             4    5           sok              сік              0   \n",
              "..          ...  ...           ...              ...            ...   \n",
              "749         802  803    szesnaście           козаки              2   \n",
              "752         806  807        malarz       магазинчик              2   \n",
              "756         812  813        strata       порадувати              2   \n",
              "801         864  865       kolejny           лужний              2   \n",
              "809         872  873    podróżować         порушити              2   \n",
              "\n",
              "     orthographic_sim  predictions  \n",
              "0                   1            1  \n",
              "1                   1            1  \n",
              "2                   1            1  \n",
              "3                   1            1  \n",
              "4                   1            1  \n",
              "..                ...          ...  \n",
              "749                 0            1  \n",
              "752                 0            1  \n",
              "756                 0            1  \n",
              "801                 0            1  \n",
              "809                 0            1  \n",
              "\n",
              "[382 rows x 7 columns]"
            ],
            "text/html": [
              "\n",
              "  <div id=\"df-52020b98-ba0c-421e-a771-e723b9fa27ea\">\n",
              "    <div class=\"colab-df-container\">\n",
              "      <div>\n",
              "<style scoped>\n",
              "    .dataframe tbody tr th:only-of-type {\n",
              "        vertical-align: middle;\n",
              "    }\n",
              "\n",
              "    .dataframe tbody tr th {\n",
              "        vertical-align: top;\n",
              "    }\n",
              "\n",
              "    .dataframe thead th {\n",
              "        text-align: right;\n",
              "    }\n",
              "</style>\n",
              "<table border=\"1\" class=\"dataframe\">\n",
              "  <thead>\n",
              "    <tr style=\"text-align: right;\">\n",
              "      <th></th>\n",
              "      <th>Unnamed: 0</th>\n",
              "      <th>id</th>\n",
              "      <th>pl</th>\n",
              "      <th>uk</th>\n",
              "      <th>false_friends</th>\n",
              "      <th>orthographic_sim</th>\n",
              "      <th>predictions</th>\n",
              "    </tr>\n",
              "  </thead>\n",
              "  <tbody>\n",
              "    <tr>\n",
              "      <th>0</th>\n",
              "      <td>0</td>\n",
              "      <td>1</td>\n",
              "      <td>śniadanie</td>\n",
              "      <td>сніданок</td>\n",
              "      <td>0</td>\n",
              "      <td>1</td>\n",
              "      <td>1</td>\n",
              "    </tr>\n",
              "    <tr>\n",
              "      <th>1</th>\n",
              "      <td>1</td>\n",
              "      <td>2</td>\n",
              "      <td>wegetarianin</td>\n",
              "      <td>вегетаріанський</td>\n",
              "      <td>0</td>\n",
              "      <td>1</td>\n",
              "      <td>1</td>\n",
              "    </tr>\n",
              "    <tr>\n",
              "      <th>2</th>\n",
              "      <td>2</td>\n",
              "      <td>3</td>\n",
              "      <td>napój</td>\n",
              "      <td>напій</td>\n",
              "      <td>0</td>\n",
              "      <td>1</td>\n",
              "      <td>1</td>\n",
              "    </tr>\n",
              "    <tr>\n",
              "      <th>3</th>\n",
              "      <td>3</td>\n",
              "      <td>4</td>\n",
              "      <td>kawa</td>\n",
              "      <td>кава</td>\n",
              "      <td>0</td>\n",
              "      <td>1</td>\n",
              "      <td>1</td>\n",
              "    </tr>\n",
              "    <tr>\n",
              "      <th>4</th>\n",
              "      <td>4</td>\n",
              "      <td>5</td>\n",
              "      <td>sok</td>\n",
              "      <td>сік</td>\n",
              "      <td>0</td>\n",
              "      <td>1</td>\n",
              "      <td>1</td>\n",
              "    </tr>\n",
              "    <tr>\n",
              "      <th>...</th>\n",
              "      <td>...</td>\n",
              "      <td>...</td>\n",
              "      <td>...</td>\n",
              "      <td>...</td>\n",
              "      <td>...</td>\n",
              "      <td>...</td>\n",
              "      <td>...</td>\n",
              "    </tr>\n",
              "    <tr>\n",
              "      <th>749</th>\n",
              "      <td>802</td>\n",
              "      <td>803</td>\n",
              "      <td>szesnaście</td>\n",
              "      <td>козаки</td>\n",
              "      <td>2</td>\n",
              "      <td>0</td>\n",
              "      <td>1</td>\n",
              "    </tr>\n",
              "    <tr>\n",
              "      <th>752</th>\n",
              "      <td>806</td>\n",
              "      <td>807</td>\n",
              "      <td>malarz</td>\n",
              "      <td>магазинчик</td>\n",
              "      <td>2</td>\n",
              "      <td>0</td>\n",
              "      <td>1</td>\n",
              "    </tr>\n",
              "    <tr>\n",
              "      <th>756</th>\n",
              "      <td>812</td>\n",
              "      <td>813</td>\n",
              "      <td>strata</td>\n",
              "      <td>порадувати</td>\n",
              "      <td>2</td>\n",
              "      <td>0</td>\n",
              "      <td>1</td>\n",
              "    </tr>\n",
              "    <tr>\n",
              "      <th>801</th>\n",
              "      <td>864</td>\n",
              "      <td>865</td>\n",
              "      <td>kolejny</td>\n",
              "      <td>лужний</td>\n",
              "      <td>2</td>\n",
              "      <td>0</td>\n",
              "      <td>1</td>\n",
              "    </tr>\n",
              "    <tr>\n",
              "      <th>809</th>\n",
              "      <td>872</td>\n",
              "      <td>873</td>\n",
              "      <td>podróżować</td>\n",
              "      <td>порушити</td>\n",
              "      <td>2</td>\n",
              "      <td>0</td>\n",
              "      <td>1</td>\n",
              "    </tr>\n",
              "  </tbody>\n",
              "</table>\n",
              "<p>382 rows × 7 columns</p>\n",
              "</div>\n",
              "      <button class=\"colab-df-convert\" onclick=\"convertToInteractive('df-52020b98-ba0c-421e-a771-e723b9fa27ea')\"\n",
              "              title=\"Convert this dataframe to an interactive table.\"\n",
              "              style=\"display:none;\">\n",
              "        \n",
              "  <svg xmlns=\"http://www.w3.org/2000/svg\" height=\"24px\"viewBox=\"0 0 24 24\"\n",
              "       width=\"24px\">\n",
              "    <path d=\"M0 0h24v24H0V0z\" fill=\"none\"/>\n",
              "    <path d=\"M18.56 5.44l.94 2.06.94-2.06 2.06-.94-2.06-.94-.94-2.06-.94 2.06-2.06.94zm-11 1L8.5 8.5l.94-2.06 2.06-.94-2.06-.94L8.5 2.5l-.94 2.06-2.06.94zm10 10l.94 2.06.94-2.06 2.06-.94-2.06-.94-.94-2.06-.94 2.06-2.06.94z\"/><path d=\"M17.41 7.96l-1.37-1.37c-.4-.4-.92-.59-1.43-.59-.52 0-1.04.2-1.43.59L10.3 9.45l-7.72 7.72c-.78.78-.78 2.05 0 2.83L4 21.41c.39.39.9.59 1.41.59.51 0 1.02-.2 1.41-.59l7.78-7.78 2.81-2.81c.8-.78.8-2.07 0-2.86zM5.41 20L4 18.59l7.72-7.72 1.47 1.35L5.41 20z\"/>\n",
              "  </svg>\n",
              "      </button>\n",
              "      \n",
              "  <style>\n",
              "    .colab-df-container {\n",
              "      display:flex;\n",
              "      flex-wrap:wrap;\n",
              "      gap: 12px;\n",
              "    }\n",
              "\n",
              "    .colab-df-convert {\n",
              "      background-color: #E8F0FE;\n",
              "      border: none;\n",
              "      border-radius: 50%;\n",
              "      cursor: pointer;\n",
              "      display: none;\n",
              "      fill: #1967D2;\n",
              "      height: 32px;\n",
              "      padding: 0 0 0 0;\n",
              "      width: 32px;\n",
              "    }\n",
              "\n",
              "    .colab-df-convert:hover {\n",
              "      background-color: #E2EBFA;\n",
              "      box-shadow: 0px 1px 2px rgba(60, 64, 67, 0.3), 0px 1px 3px 1px rgba(60, 64, 67, 0.15);\n",
              "      fill: #174EA6;\n",
              "    }\n",
              "\n",
              "    [theme=dark] .colab-df-convert {\n",
              "      background-color: #3B4455;\n",
              "      fill: #D2E3FC;\n",
              "    }\n",
              "\n",
              "    [theme=dark] .colab-df-convert:hover {\n",
              "      background-color: #434B5C;\n",
              "      box-shadow: 0px 1px 3px 1px rgba(0, 0, 0, 0.15);\n",
              "      filter: drop-shadow(0px 1px 2px rgba(0, 0, 0, 0.3));\n",
              "      fill: #FFFFFF;\n",
              "    }\n",
              "  </style>\n",
              "\n",
              "      <script>\n",
              "        const buttonEl =\n",
              "          document.querySelector('#df-52020b98-ba0c-421e-a771-e723b9fa27ea button.colab-df-convert');\n",
              "        buttonEl.style.display =\n",
              "          google.colab.kernel.accessAllowed ? 'block' : 'none';\n",
              "\n",
              "        async function convertToInteractive(key) {\n",
              "          const element = document.querySelector('#df-52020b98-ba0c-421e-a771-e723b9fa27ea');\n",
              "          const dataTable =\n",
              "            await google.colab.kernel.invokeFunction('convertToInteractive',\n",
              "                                                     [key], {});\n",
              "          if (!dataTable) return;\n",
              "\n",
              "          const docLinkHtml = 'Like what you see? Visit the ' +\n",
              "            '<a target=\"_blank\" href=https://colab.research.google.com/notebooks/data_table.ipynb>data table notebook</a>'\n",
              "            + ' to learn more about interactive tables.';\n",
              "          element.innerHTML = '';\n",
              "          dataTable['output_type'] = 'display_data';\n",
              "          await google.colab.output.renderOutput(dataTable, element);\n",
              "          const docLink = document.createElement('div');\n",
              "          docLink.innerHTML = docLinkHtml;\n",
              "          element.appendChild(docLink);\n",
              "        }\n",
              "      </script>\n",
              "    </div>\n",
              "  </div>\n",
              "  "
            ]
          },
          "metadata": {},
          "execution_count": 220
        }
      ]
    },
    {
      "cell_type": "code",
      "source": [
        "grouped_counts = filtered_df.groupby('false_friends').count()\n",
        "print(grouped_counts)"
      ],
      "metadata": {
        "colab": {
          "base_uri": "https://localhost:8080/"
        },
        "id": "8CuGwbS4gqXX",
        "outputId": "0d829ee9-c02f-4b53-8425-b0783a967cee"
      },
      "execution_count": 222,
      "outputs": [
        {
          "output_type": "stream",
          "name": "stdout",
          "text": [
            "               Unnamed: 0   id   pl   uk  orthographic_sim  predictions\n",
            "false_friends                                                          \n",
            "0                     165  165  165  165               165          165\n",
            "1                     193  193  193  193               193          193\n",
            "2                      24   24   24   24                24           24\n"
          ]
        }
      ]
    },
    {
      "cell_type": "code",
      "source": [
        "filtered_df['uk'] = filtered_df['uk'].str.strip()\n",
        "filtered_df['pl'] = filtered_df['pl'].str.strip()\n",
        "print(len(filtered_df))"
      ],
      "metadata": {
        "colab": {
          "base_uri": "https://localhost:8080/"
        },
        "id": "P_Ky1aJmgln4",
        "outputId": "1aa55104-a048-46af-f801-935b69378a44"
      },
      "execution_count": 236,
      "outputs": [
        {
          "output_type": "stream",
          "name": "stdout",
          "text": [
            "382\n"
          ]
        },
        {
          "output_type": "stream",
          "name": "stderr",
          "text": [
            "<ipython-input-236-67ae1a4f2295>:1: SettingWithCopyWarning: \n",
            "A value is trying to be set on a copy of a slice from a DataFrame.\n",
            "Try using .loc[row_indexer,col_indexer] = value instead\n",
            "\n",
            "See the caveats in the documentation: https://pandas.pydata.org/pandas-docs/stable/user_guide/indexing.html#returning-a-view-versus-a-copy\n",
            "  filtered_df['uk'] = filtered_df['uk'].str.strip()\n",
            "<ipython-input-236-67ae1a4f2295>:2: SettingWithCopyWarning: \n",
            "A value is trying to be set on a copy of a slice from a DataFrame.\n",
            "Try using .loc[row_indexer,col_indexer] = value instead\n",
            "\n",
            "See the caveats in the documentation: https://pandas.pydata.org/pandas-docs/stable/user_guide/indexing.html#returning-a-view-versus-a-copy\n",
            "  filtered_df['pl'] = filtered_df['pl'].str.strip()\n"
          ]
        }
      ]
    },
    {
      "cell_type": "code",
      "source": [
        "df = pd.read_csv('updated_dataset.csv')\n",
        "filtered_df = df[df['predictions']==1]"
      ],
      "metadata": {
        "id": "HTv0jkEzFpQP"
      },
      "execution_count": 231,
      "outputs": []
    },
    {
      "cell_type": "code",
      "source": [
        "filtered_df"
      ],
      "metadata": {
        "colab": {
          "base_uri": "https://localhost:8080/",
          "height": 485
        },
        "id": "6UsYe-vpFwGP",
        "outputId": "df526ea8-6401-4835-e74e-25deb01ef85f"
      },
      "execution_count": 232,
      "outputs": [
        {
          "output_type": "execute_result",
          "data": {
            "text/plain": [
              "     Unnamed: 0   id            pl               uk  false_friends  \\\n",
              "0             0    1     śniadanie         сніданок              0   \n",
              "1             1    2  wegetarianin  вегетаріанський              0   \n",
              "2             2    3         napój            напій              0   \n",
              "3             3    4          kawa             кава              0   \n",
              "4             4    5           sok              сік              0   \n",
              "..          ...  ...           ...              ...            ...   \n",
              "749         802  803    szesnaście           козаки              2   \n",
              "752         806  807        malarz       магазинчик              2   \n",
              "756         812  813        strata       порадувати              2   \n",
              "801         864  865       kolejny           лужний              2   \n",
              "809         872  873    podróżować         порушити              2   \n",
              "\n",
              "     orthographic_sim  predictions  \n",
              "0                   1            1  \n",
              "1                   1            1  \n",
              "2                   1            1  \n",
              "3                   1            1  \n",
              "4                   1            1  \n",
              "..                ...          ...  \n",
              "749                 0            1  \n",
              "752                 0            1  \n",
              "756                 0            1  \n",
              "801                 0            1  \n",
              "809                 0            1  \n",
              "\n",
              "[382 rows x 7 columns]"
            ],
            "text/html": [
              "\n",
              "  <div id=\"df-a8c7fd7a-6b91-421a-9e57-95e20bcad3a2\">\n",
              "    <div class=\"colab-df-container\">\n",
              "      <div>\n",
              "<style scoped>\n",
              "    .dataframe tbody tr th:only-of-type {\n",
              "        vertical-align: middle;\n",
              "    }\n",
              "\n",
              "    .dataframe tbody tr th {\n",
              "        vertical-align: top;\n",
              "    }\n",
              "\n",
              "    .dataframe thead th {\n",
              "        text-align: right;\n",
              "    }\n",
              "</style>\n",
              "<table border=\"1\" class=\"dataframe\">\n",
              "  <thead>\n",
              "    <tr style=\"text-align: right;\">\n",
              "      <th></th>\n",
              "      <th>Unnamed: 0</th>\n",
              "      <th>id</th>\n",
              "      <th>pl</th>\n",
              "      <th>uk</th>\n",
              "      <th>false_friends</th>\n",
              "      <th>orthographic_sim</th>\n",
              "      <th>predictions</th>\n",
              "    </tr>\n",
              "  </thead>\n",
              "  <tbody>\n",
              "    <tr>\n",
              "      <th>0</th>\n",
              "      <td>0</td>\n",
              "      <td>1</td>\n",
              "      <td>śniadanie</td>\n",
              "      <td>сніданок</td>\n",
              "      <td>0</td>\n",
              "      <td>1</td>\n",
              "      <td>1</td>\n",
              "    </tr>\n",
              "    <tr>\n",
              "      <th>1</th>\n",
              "      <td>1</td>\n",
              "      <td>2</td>\n",
              "      <td>wegetarianin</td>\n",
              "      <td>вегетаріанський</td>\n",
              "      <td>0</td>\n",
              "      <td>1</td>\n",
              "      <td>1</td>\n",
              "    </tr>\n",
              "    <tr>\n",
              "      <th>2</th>\n",
              "      <td>2</td>\n",
              "      <td>3</td>\n",
              "      <td>napój</td>\n",
              "      <td>напій</td>\n",
              "      <td>0</td>\n",
              "      <td>1</td>\n",
              "      <td>1</td>\n",
              "    </tr>\n",
              "    <tr>\n",
              "      <th>3</th>\n",
              "      <td>3</td>\n",
              "      <td>4</td>\n",
              "      <td>kawa</td>\n",
              "      <td>кава</td>\n",
              "      <td>0</td>\n",
              "      <td>1</td>\n",
              "      <td>1</td>\n",
              "    </tr>\n",
              "    <tr>\n",
              "      <th>4</th>\n",
              "      <td>4</td>\n",
              "      <td>5</td>\n",
              "      <td>sok</td>\n",
              "      <td>сік</td>\n",
              "      <td>0</td>\n",
              "      <td>1</td>\n",
              "      <td>1</td>\n",
              "    </tr>\n",
              "    <tr>\n",
              "      <th>...</th>\n",
              "      <td>...</td>\n",
              "      <td>...</td>\n",
              "      <td>...</td>\n",
              "      <td>...</td>\n",
              "      <td>...</td>\n",
              "      <td>...</td>\n",
              "      <td>...</td>\n",
              "    </tr>\n",
              "    <tr>\n",
              "      <th>749</th>\n",
              "      <td>802</td>\n",
              "      <td>803</td>\n",
              "      <td>szesnaście</td>\n",
              "      <td>козаки</td>\n",
              "      <td>2</td>\n",
              "      <td>0</td>\n",
              "      <td>1</td>\n",
              "    </tr>\n",
              "    <tr>\n",
              "      <th>752</th>\n",
              "      <td>806</td>\n",
              "      <td>807</td>\n",
              "      <td>malarz</td>\n",
              "      <td>магазинчик</td>\n",
              "      <td>2</td>\n",
              "      <td>0</td>\n",
              "      <td>1</td>\n",
              "    </tr>\n",
              "    <tr>\n",
              "      <th>756</th>\n",
              "      <td>812</td>\n",
              "      <td>813</td>\n",
              "      <td>strata</td>\n",
              "      <td>порадувати</td>\n",
              "      <td>2</td>\n",
              "      <td>0</td>\n",
              "      <td>1</td>\n",
              "    </tr>\n",
              "    <tr>\n",
              "      <th>801</th>\n",
              "      <td>864</td>\n",
              "      <td>865</td>\n",
              "      <td>kolejny</td>\n",
              "      <td>лужний</td>\n",
              "      <td>2</td>\n",
              "      <td>0</td>\n",
              "      <td>1</td>\n",
              "    </tr>\n",
              "    <tr>\n",
              "      <th>809</th>\n",
              "      <td>872</td>\n",
              "      <td>873</td>\n",
              "      <td>podróżować</td>\n",
              "      <td>порушити</td>\n",
              "      <td>2</td>\n",
              "      <td>0</td>\n",
              "      <td>1</td>\n",
              "    </tr>\n",
              "  </tbody>\n",
              "</table>\n",
              "<p>382 rows × 7 columns</p>\n",
              "</div>\n",
              "      <button class=\"colab-df-convert\" onclick=\"convertToInteractive('df-a8c7fd7a-6b91-421a-9e57-95e20bcad3a2')\"\n",
              "              title=\"Convert this dataframe to an interactive table.\"\n",
              "              style=\"display:none;\">\n",
              "        \n",
              "  <svg xmlns=\"http://www.w3.org/2000/svg\" height=\"24px\"viewBox=\"0 0 24 24\"\n",
              "       width=\"24px\">\n",
              "    <path d=\"M0 0h24v24H0V0z\" fill=\"none\"/>\n",
              "    <path d=\"M18.56 5.44l.94 2.06.94-2.06 2.06-.94-2.06-.94-.94-2.06-.94 2.06-2.06.94zm-11 1L8.5 8.5l.94-2.06 2.06-.94-2.06-.94L8.5 2.5l-.94 2.06-2.06.94zm10 10l.94 2.06.94-2.06 2.06-.94-2.06-.94-.94-2.06-.94 2.06-2.06.94z\"/><path d=\"M17.41 7.96l-1.37-1.37c-.4-.4-.92-.59-1.43-.59-.52 0-1.04.2-1.43.59L10.3 9.45l-7.72 7.72c-.78.78-.78 2.05 0 2.83L4 21.41c.39.39.9.59 1.41.59.51 0 1.02-.2 1.41-.59l7.78-7.78 2.81-2.81c.8-.78.8-2.07 0-2.86zM5.41 20L4 18.59l7.72-7.72 1.47 1.35L5.41 20z\"/>\n",
              "  </svg>\n",
              "      </button>\n",
              "      \n",
              "  <style>\n",
              "    .colab-df-container {\n",
              "      display:flex;\n",
              "      flex-wrap:wrap;\n",
              "      gap: 12px;\n",
              "    }\n",
              "\n",
              "    .colab-df-convert {\n",
              "      background-color: #E8F0FE;\n",
              "      border: none;\n",
              "      border-radius: 50%;\n",
              "      cursor: pointer;\n",
              "      display: none;\n",
              "      fill: #1967D2;\n",
              "      height: 32px;\n",
              "      padding: 0 0 0 0;\n",
              "      width: 32px;\n",
              "    }\n",
              "\n",
              "    .colab-df-convert:hover {\n",
              "      background-color: #E2EBFA;\n",
              "      box-shadow: 0px 1px 2px rgba(60, 64, 67, 0.3), 0px 1px 3px 1px rgba(60, 64, 67, 0.15);\n",
              "      fill: #174EA6;\n",
              "    }\n",
              "\n",
              "    [theme=dark] .colab-df-convert {\n",
              "      background-color: #3B4455;\n",
              "      fill: #D2E3FC;\n",
              "    }\n",
              "\n",
              "    [theme=dark] .colab-df-convert:hover {\n",
              "      background-color: #434B5C;\n",
              "      box-shadow: 0px 1px 3px 1px rgba(0, 0, 0, 0.15);\n",
              "      filter: drop-shadow(0px 1px 2px rgba(0, 0, 0, 0.3));\n",
              "      fill: #FFFFFF;\n",
              "    }\n",
              "  </style>\n",
              "\n",
              "      <script>\n",
              "        const buttonEl =\n",
              "          document.querySelector('#df-a8c7fd7a-6b91-421a-9e57-95e20bcad3a2 button.colab-df-convert');\n",
              "        buttonEl.style.display =\n",
              "          google.colab.kernel.accessAllowed ? 'block' : 'none';\n",
              "\n",
              "        async function convertToInteractive(key) {\n",
              "          const element = document.querySelector('#df-a8c7fd7a-6b91-421a-9e57-95e20bcad3a2');\n",
              "          const dataTable =\n",
              "            await google.colab.kernel.invokeFunction('convertToInteractive',\n",
              "                                                     [key], {});\n",
              "          if (!dataTable) return;\n",
              "\n",
              "          const docLinkHtml = 'Like what you see? Visit the ' +\n",
              "            '<a target=\"_blank\" href=https://colab.research.google.com/notebooks/data_table.ipynb>data table notebook</a>'\n",
              "            + ' to learn more about interactive tables.';\n",
              "          element.innerHTML = '';\n",
              "          dataTable['output_type'] = 'display_data';\n",
              "          await google.colab.output.renderOutput(dataTable, element);\n",
              "          const docLink = document.createElement('div');\n",
              "          docLink.innerHTML = docLinkHtml;\n",
              "          element.appendChild(docLink);\n",
              "        }\n",
              "      </script>\n",
              "    </div>\n",
              "  </div>\n",
              "  "
            ]
          },
          "metadata": {},
          "execution_count": 232
        }
      ]
    },
    {
      "cell_type": "code",
      "source": [
        "filtered_df['false_friends'] = filtered_df['false_friends'].replace({2:0})"
      ],
      "metadata": {
        "colab": {
          "base_uri": "https://localhost:8080/"
        },
        "id": "_l5AcTb3hdhD",
        "outputId": "f8ebb0ad-3ca9-4455-b374-4ae3e4a75237"
      },
      "execution_count": 233,
      "outputs": [
        {
          "output_type": "stream",
          "name": "stderr",
          "text": [
            "<ipython-input-233-e0e89cd8d4d6>:1: SettingWithCopyWarning: \n",
            "A value is trying to be set on a copy of a slice from a DataFrame.\n",
            "Try using .loc[row_indexer,col_indexer] = value instead\n",
            "\n",
            "See the caveats in the documentation: https://pandas.pydata.org/pandas-docs/stable/user_guide/indexing.html#returning-a-view-versus-a-copy\n",
            "  filtered_df['false_friends'] = filtered_df['false_friends'].replace({2:0})\n"
          ]
        }
      ]
    },
    {
      "cell_type": "code",
      "source": [
        "grouped_counts = filtered_df.groupby('false_friends').count()\n",
        "grouped_counts"
      ],
      "metadata": {
        "colab": {
          "base_uri": "https://localhost:8080/",
          "height": 143
        },
        "id": "8tDctoIrhy1M",
        "outputId": "b1211a2c-1c49-4c7f-fda4-95eff6dcc5a2"
      },
      "execution_count": 234,
      "outputs": [
        {
          "output_type": "execute_result",
          "data": {
            "text/plain": [
              "               Unnamed: 0   id   pl   uk  orthographic_sim  predictions\n",
              "false_friends                                                          \n",
              "0                     189  189  189  189               189          189\n",
              "1                     193  193  193  193               193          193"
            ],
            "text/html": [
              "\n",
              "  <div id=\"df-26ade1da-8166-48fb-82e7-fa90e34588f0\">\n",
              "    <div class=\"colab-df-container\">\n",
              "      <div>\n",
              "<style scoped>\n",
              "    .dataframe tbody tr th:only-of-type {\n",
              "        vertical-align: middle;\n",
              "    }\n",
              "\n",
              "    .dataframe tbody tr th {\n",
              "        vertical-align: top;\n",
              "    }\n",
              "\n",
              "    .dataframe thead th {\n",
              "        text-align: right;\n",
              "    }\n",
              "</style>\n",
              "<table border=\"1\" class=\"dataframe\">\n",
              "  <thead>\n",
              "    <tr style=\"text-align: right;\">\n",
              "      <th></th>\n",
              "      <th>Unnamed: 0</th>\n",
              "      <th>id</th>\n",
              "      <th>pl</th>\n",
              "      <th>uk</th>\n",
              "      <th>orthographic_sim</th>\n",
              "      <th>predictions</th>\n",
              "    </tr>\n",
              "    <tr>\n",
              "      <th>false_friends</th>\n",
              "      <th></th>\n",
              "      <th></th>\n",
              "      <th></th>\n",
              "      <th></th>\n",
              "      <th></th>\n",
              "      <th></th>\n",
              "    </tr>\n",
              "  </thead>\n",
              "  <tbody>\n",
              "    <tr>\n",
              "      <th>0</th>\n",
              "      <td>189</td>\n",
              "      <td>189</td>\n",
              "      <td>189</td>\n",
              "      <td>189</td>\n",
              "      <td>189</td>\n",
              "      <td>189</td>\n",
              "    </tr>\n",
              "    <tr>\n",
              "      <th>1</th>\n",
              "      <td>193</td>\n",
              "      <td>193</td>\n",
              "      <td>193</td>\n",
              "      <td>193</td>\n",
              "      <td>193</td>\n",
              "      <td>193</td>\n",
              "    </tr>\n",
              "  </tbody>\n",
              "</table>\n",
              "</div>\n",
              "      <button class=\"colab-df-convert\" onclick=\"convertToInteractive('df-26ade1da-8166-48fb-82e7-fa90e34588f0')\"\n",
              "              title=\"Convert this dataframe to an interactive table.\"\n",
              "              style=\"display:none;\">\n",
              "        \n",
              "  <svg xmlns=\"http://www.w3.org/2000/svg\" height=\"24px\"viewBox=\"0 0 24 24\"\n",
              "       width=\"24px\">\n",
              "    <path d=\"M0 0h24v24H0V0z\" fill=\"none\"/>\n",
              "    <path d=\"M18.56 5.44l.94 2.06.94-2.06 2.06-.94-2.06-.94-.94-2.06-.94 2.06-2.06.94zm-11 1L8.5 8.5l.94-2.06 2.06-.94-2.06-.94L8.5 2.5l-.94 2.06-2.06.94zm10 10l.94 2.06.94-2.06 2.06-.94-2.06-.94-.94-2.06-.94 2.06-2.06.94z\"/><path d=\"M17.41 7.96l-1.37-1.37c-.4-.4-.92-.59-1.43-.59-.52 0-1.04.2-1.43.59L10.3 9.45l-7.72 7.72c-.78.78-.78 2.05 0 2.83L4 21.41c.39.39.9.59 1.41.59.51 0 1.02-.2 1.41-.59l7.78-7.78 2.81-2.81c.8-.78.8-2.07 0-2.86zM5.41 20L4 18.59l7.72-7.72 1.47 1.35L5.41 20z\"/>\n",
              "  </svg>\n",
              "      </button>\n",
              "      \n",
              "  <style>\n",
              "    .colab-df-container {\n",
              "      display:flex;\n",
              "      flex-wrap:wrap;\n",
              "      gap: 12px;\n",
              "    }\n",
              "\n",
              "    .colab-df-convert {\n",
              "      background-color: #E8F0FE;\n",
              "      border: none;\n",
              "      border-radius: 50%;\n",
              "      cursor: pointer;\n",
              "      display: none;\n",
              "      fill: #1967D2;\n",
              "      height: 32px;\n",
              "      padding: 0 0 0 0;\n",
              "      width: 32px;\n",
              "    }\n",
              "\n",
              "    .colab-df-convert:hover {\n",
              "      background-color: #E2EBFA;\n",
              "      box-shadow: 0px 1px 2px rgba(60, 64, 67, 0.3), 0px 1px 3px 1px rgba(60, 64, 67, 0.15);\n",
              "      fill: #174EA6;\n",
              "    }\n",
              "\n",
              "    [theme=dark] .colab-df-convert {\n",
              "      background-color: #3B4455;\n",
              "      fill: #D2E3FC;\n",
              "    }\n",
              "\n",
              "    [theme=dark] .colab-df-convert:hover {\n",
              "      background-color: #434B5C;\n",
              "      box-shadow: 0px 1px 3px 1px rgba(0, 0, 0, 0.15);\n",
              "      filter: drop-shadow(0px 1px 2px rgba(0, 0, 0, 0.3));\n",
              "      fill: #FFFFFF;\n",
              "    }\n",
              "  </style>\n",
              "\n",
              "      <script>\n",
              "        const buttonEl =\n",
              "          document.querySelector('#df-26ade1da-8166-48fb-82e7-fa90e34588f0 button.colab-df-convert');\n",
              "        buttonEl.style.display =\n",
              "          google.colab.kernel.accessAllowed ? 'block' : 'none';\n",
              "\n",
              "        async function convertToInteractive(key) {\n",
              "          const element = document.querySelector('#df-26ade1da-8166-48fb-82e7-fa90e34588f0');\n",
              "          const dataTable =\n",
              "            await google.colab.kernel.invokeFunction('convertToInteractive',\n",
              "                                                     [key], {});\n",
              "          if (!dataTable) return;\n",
              "\n",
              "          const docLinkHtml = 'Like what you see? Visit the ' +\n",
              "            '<a target=\"_blank\" href=https://colab.research.google.com/notebooks/data_table.ipynb>data table notebook</a>'\n",
              "            + ' to learn more about interactive tables.';\n",
              "          element.innerHTML = '';\n",
              "          dataTable['output_type'] = 'display_data';\n",
              "          await google.colab.output.renderOutput(dataTable, element);\n",
              "          const docLink = document.createElement('div');\n",
              "          docLink.innerHTML = docLinkHtml;\n",
              "          element.appendChild(docLink);\n",
              "        }\n",
              "      </script>\n",
              "    </div>\n",
              "  </div>\n",
              "  "
            ]
          },
          "metadata": {},
          "execution_count": 234
        }
      ]
    },
    {
      "cell_type": "code",
      "source": [
        "row_count = filtered_df['false_friends'].value_counts()\n",
        "row_count"
      ],
      "metadata": {
        "colab": {
          "base_uri": "https://localhost:8080/"
        },
        "id": "mLUY1jIzoI7i",
        "outputId": "7764a958-4a8e-4742-ad56-321984e7df2c"
      },
      "execution_count": 304,
      "outputs": [
        {
          "output_type": "execute_result",
          "data": {
            "text/plain": [
              "1    193\n",
              "0    189\n",
              "Name: false_friends, dtype: int64"
            ]
          },
          "metadata": {},
          "execution_count": 304
        }
      ]
    },
    {
      "cell_type": "code",
      "source": [
        "indeces = ['cognates', 'false friends']\n",
        "\n",
        "values = sorted(list(row_count.values))\n",
        "\n",
        "fig = plt.figure(figsize=(10,5))\n",
        "\n",
        "plt.bar(indeces, values, color='maroon', width=0.5)\n",
        "\n",
        "plt.xlabel(\"word pairs\")\n",
        "plt.ylabel(\"number\")\n",
        "plt.title(\"Number of word pairs in a filtered dataset\")\n",
        "plt.show()"
      ],
      "metadata": {
        "colab": {
          "base_uri": "https://localhost:8080/",
          "height": 432
        },
        "id": "7RDIst7doVVU",
        "outputId": "85f589ab-f3e4-4582-e680-f41e773fae56"
      },
      "execution_count": 305,
      "outputs": [
        {
          "output_type": "display_data",
          "data": {
            "text/plain": [
              "<Figure size 1000x500 with 1 Axes>"
            ],
            "image/png": "[encoded data removed]"
          },
          "metadata": {}
        }
      ]
    },
    {
      "cell_type": "markdown",
      "source": [
        "## Similarity between Ukrainian and Polish word pairs"
      ],
      "metadata": {
        "id": "vNKr00541WlJ"
      }
    },
    {
      "cell_type": "code",
      "execution_count": 15,
      "metadata": {
        "colab": {
          "base_uri": "https://localhost:8080/"
        },
        "id": "_dX8w4bWoH8q",
        "outputId": "eab57832-3044-4771-b0df-9f52085979f3"
      },
      "outputs": [
        {
          "output_type": "stream",
          "name": "stdout",
          "text": [
            "reading word vectors from wiki.uk.vec\n",
            "reading word vectors from wiki.pl.vec\n"
          ]
        }
      ],
      "source": [
        "from fast_vector import FastVector\n",
        "uk_dictionary = FastVector(vector_file='wiki.uk.vec')\n",
        "pl_dictionary = FastVector(vector_file='wiki.pl.vec')"
      ]
    },
    {
      "cell_type": "code",
      "source": [
        "uk_vector = uk_dictionary[\"кіт\"]\n",
        "pl_vector = pl_dictionary[\"kot\"]\n",
        "print(FastVector.cosine_similarity(uk_vector, pl_vector))"
      ],
      "metadata": {
        "colab": {
          "base_uri": "https://localhost:8080/"
        },
        "id": "wCn2dZOVzRFo",
        "outputId": "066b8479-be30-4068-bd1a-64db1cf33a5e"
      },
      "execution_count": 16,
      "outputs": [
        {
          "output_type": "stream",
          "name": "stdout",
          "text": [
            "0.09863913206925096\n"
          ]
        }
      ]
    },
    {
      "cell_type": "code",
      "source": [
        "uk_dictionary.apply_transform('uk.txt')\n",
        "pl_dictionary.apply_transform('pl.txt')"
      ],
      "metadata": {
        "id": "jR3R7W_s0E88"
      },
      "execution_count": 17,
      "outputs": []
    },
    {
      "cell_type": "code",
      "source": [
        "print(FastVector.cosine_similarity(uk_dictionary[\"кіт\"], pl_dictionary[\"kot\"]))\n",
        "# Result should be 0.43"
      ],
      "metadata": {
        "colab": {
          "base_uri": "https://localhost:8080/"
        },
        "id": "i-ElgEYy0YGy",
        "outputId": "5f4ee84f-0766-407f-82bb-5b0b2f4aba9d"
      },
      "execution_count": 306,
      "outputs": [
        {
          "output_type": "stream",
          "name": "stdout",
          "text": [
            "0.48332476480896835\n"
          ]
        }
      ]
    },
    {
      "cell_type": "markdown",
      "source": [
        "## Predict cognates and false friends"
      ],
      "metadata": {
        "id": "9YwT6FP8J1qT"
      }
    },
    {
      "cell_type": "code",
      "source": [
        "preds = []\n",
        "\n",
        "for row in filtered_df.iterrows():\n",
        "  uk_word = row[1][3]\n",
        "  pl_word = row[1][2]\n",
        "  res = FastVector.cosine_similarity(uk_dictionary[uk_word], pl_dictionary[pl_word])\n",
        "  # false friends\n",
        "  if res < 0.5:\n",
        "    preds.append(1)\n",
        "  else:\n",
        "    preds.append(0)\n"
      ],
      "metadata": {
        "id": "BuQ_TARsJ06C"
      },
      "execution_count": 297,
      "outputs": []
    },
    {
      "cell_type": "code",
      "source": [
        "print(preds)"
      ],
      "metadata": {
        "colab": {
          "base_uri": "https://localhost:8080/"
        },
        "id": "m64dEfjLZdNp",
        "outputId": "64ab68b3-6499-4171-ff74-0483c4b3f83a"
      },
      "execution_count": 298,
      "outputs": [
        {
          "output_type": "stream",
          "name": "stdout",
          "text": [
            "[0, 0, 0, 0, 0, 0, 0, 0, 1, 0, 0, 0, 1, 0, 0, 0, 0, 0, 0, 0, 1, 0, 0, 0, 0, 0, 0, 0, 0, 0, 0, 0, 0, 0, 0, 0, 0, 0, 1, 1, 0, 0, 0, 0, 0, 0, 1, 0, 0, 0, 0, 0, 0, 1, 0, 0, 0, 0, 0, 0, 0, 0, 0, 0, 0, 0, 0, 0, 1, 1, 0, 0, 0, 0, 0, 0, 0, 0, 0, 1, 1, 0, 0, 0, 0, 1, 0, 0, 0, 0, 0, 0, 0, 0, 0, 0, 0, 0, 0, 0, 0, 0, 0, 0, 0, 0, 0, 0, 0, 0, 0, 0, 0, 0, 0, 0, 0, 0, 0, 0, 0, 0, 0, 0, 0, 0, 0, 0, 0, 1, 0, 0, 0, 0, 0, 0, 0, 0, 0, 0, 0, 1, 1, 0, 1, 0, 0, 1, 0, 0, 0, 1, 0, 0, 1, 0, 0, 0, 0, 1, 1, 1, 0, 0, 0, 1, 1, 1, 1, 1, 1, 1, 1, 0, 0, 1, 1, 1, 1, 1, 1, 1, 1, 1, 1, 1, 1, 1, 1, 0, 1, 1, 1, 1, 0, 1, 1, 1, 1, 1, 1, 1, 1, 1, 1, 1, 1, 1, 1, 1, 1, 1, 1, 1, 1, 1, 1, 1, 1, 1, 1, 1, 1, 1, 1, 1, 1, 0, 1, 0, 1, 1, 1, 1, 0, 1, 1, 0, 1, 1, 1, 1, 1, 1, 1, 1, 0, 1, 1, 1, 1, 1, 1, 1, 1, 1, 1, 1, 1, 1, 1, 1, 1, 1, 1, 1, 1, 1, 1, 1, 1, 1, 1, 1, 0, 0, 1, 1, 1, 1, 1, 1, 1, 1, 1, 1, 1, 1, 1, 1, 1, 0, 1, 1, 0, 1, 1, 1, 1, 0, 1, 1, 1, 1, 0, 1, 1, 1, 1, 0, 1, 1, 1, 1, 1, 0, 1, 1, 1, 1, 1, 1, 1, 1, 1, 1, 0, 1, 1, 1, 0, 1, 1, 0, 1, 0, 1, 1, 1, 1, 1, 1, 1, 1, 0, 1, 0, 1, 1, 1, 1, 1, 1, 0, 1, 1, 0, 0, 1, 1, 1, 1, 1, 1, 1, 0, 1, 1, 1, 1, 1, 1, 1, 0, 1, 1, 1, 1, 1, 1, 1, 1]\n"
          ]
        }
      ]
    },
    {
      "cell_type": "code",
      "source": [
        "y_true = filtered_df['false_friends'].to_list()"
      ],
      "metadata": {
        "id": "QhHI8c9jaeG4"
      },
      "execution_count": 299,
      "outputs": []
    },
    {
      "cell_type": "code",
      "source": [
        "print(y_true)"
      ],
      "metadata": {
        "colab": {
          "base_uri": "https://localhost:8080/"
        },
        "id": "8Bx2MV-CjDsF",
        "outputId": "889924af-08d5-4896-fdc9-acd9553602cd"
      },
      "execution_count": 300,
      "outputs": [
        {
          "output_type": "stream",
          "name": "stdout",
          "text": [
            "[0, 0, 0, 0, 0, 0, 0, 0, 0, 0, 0, 0, 0, 0, 0, 0, 0, 0, 0, 0, 0, 0, 0, 0, 0, 0, 0, 0, 0, 0, 0, 0, 0, 0, 0, 0, 0, 0, 0, 0, 0, 0, 0, 0, 0, 0, 0, 0, 0, 0, 0, 0, 0, 0, 0, 0, 0, 0, 0, 0, 0, 0, 0, 0, 0, 0, 0, 0, 0, 0, 0, 0, 0, 0, 0, 0, 0, 0, 0, 0, 0, 0, 0, 0, 0, 0, 0, 0, 0, 0, 0, 0, 0, 0, 0, 0, 0, 0, 0, 0, 0, 0, 0, 0, 0, 0, 0, 0, 0, 0, 0, 0, 0, 0, 0, 0, 0, 0, 0, 0, 0, 0, 0, 0, 0, 0, 0, 0, 0, 0, 0, 0, 0, 0, 0, 0, 0, 0, 0, 0, 0, 0, 0, 0, 0, 0, 0, 0, 0, 0, 0, 0, 0, 0, 0, 0, 0, 0, 0, 0, 0, 0, 0, 0, 0, 1, 1, 1, 1, 1, 1, 1, 1, 1, 1, 1, 1, 1, 1, 1, 1, 1, 1, 1, 1, 1, 1, 1, 1, 1, 1, 1, 1, 1, 1, 1, 1, 1, 1, 1, 1, 1, 1, 1, 1, 1, 1, 1, 1, 1, 1, 1, 1, 1, 1, 1, 1, 1, 1, 1, 1, 1, 1, 1, 1, 1, 1, 1, 1, 1, 1, 1, 1, 1, 1, 1, 1, 1, 1, 1, 1, 1, 1, 1, 1, 1, 1, 1, 1, 1, 1, 1, 1, 1, 1, 1, 1, 1, 1, 1, 1, 1, 1, 1, 1, 1, 1, 1, 1, 1, 1, 1, 1, 1, 1, 1, 1, 1, 1, 1, 1, 1, 1, 1, 1, 1, 1, 1, 1, 1, 1, 1, 1, 1, 1, 1, 1, 1, 1, 1, 1, 1, 1, 1, 1, 1, 1, 1, 1, 1, 1, 1, 1, 1, 1, 1, 1, 1, 1, 1, 1, 1, 1, 1, 1, 1, 1, 1, 1, 1, 1, 1, 1, 1, 1, 1, 1, 1, 1, 1, 1, 1, 1, 1, 1, 1, 1, 1, 1, 1, 1, 1, 1, 1, 1, 1, 1, 1, 0, 0, 0, 0, 0, 0, 0, 0, 0, 0, 0, 0, 0, 0, 0, 0, 0, 0, 0, 0, 0, 0, 0, 0]\n"
          ]
        }
      ]
    },
    {
      "cell_type": "code",
      "source": [
        "print(classification_report(y_true, preds))"
      ],
      "metadata": {
        "colab": {
          "base_uri": "https://localhost:8080/"
        },
        "id": "PxW2_9-4aVk0",
        "outputId": "a69a41cd-0107-45b2-cb75-f91cb381a2e4"
      },
      "execution_count": 301,
      "outputs": [
        {
          "output_type": "stream",
          "name": "stdout",
          "text": [
            "              precision    recall  f1-score   support\n",
            "\n",
            "           0       0.85      0.77      0.81       189\n",
            "           1       0.79      0.87      0.83       193\n",
            "\n",
            "    accuracy                           0.82       382\n",
            "   macro avg       0.82      0.82      0.82       382\n",
            "weighted avg       0.82      0.82      0.82       382\n",
            "\n"
          ]
        }
      ]
    },
    {
      "cell_type": "code",
      "source": [
        "matrix = confusion_matrix(y_true, preds)"
      ],
      "metadata": {
        "id": "FvJtRbw8jqR4"
      },
      "execution_count": 302,
      "outputs": []
    },
    {
      "cell_type": "code",
      "source": [
        "ax = plt.subplot()\n",
        "sns.heatmap(matrix,annot=True,fmt='.0f',cmap='Greys')\n",
        "\n",
        "# labels, title and ticks\n",
        "ax.set_xlabel('Predicted labels')\n",
        "ax.set_ylabel('True labels')\n",
        "ax.set_title('Confusion matrix')\n",
        "ax.xaxis.set_ticklabels(['cognates', 'false friends'])\n",
        "ax.yaxis.set_ticklabels(['cognates', 'false friends'])"
      ],
      "metadata": {
        "colab": {
          "base_uri": "https://localhost:8080/",
          "height": 490
        },
        "id": "yxyyYtjfjaXn",
        "outputId": "5c9bf602-4c14-468e-e138-8e4c133485f0"
      },
      "execution_count": 303,
      "outputs": [
        {
          "output_type": "execute_result",
          "data": {
            "text/plain": [
              "[Text(0, 0.5, 'cognates'), Text(0, 1.5, 'false friends')]"
            ]
          },
          "metadata": {},
          "execution_count": 303
        },
        {
          "output_type": "display_data",
          "data": {
            "text/plain": [
              "<Figure size 640x480 with 2 Axes>"
            ],
            "image/png": "[encoded data removed]"
          },
          "metadata": {}
        }
      ]
    },
    {
      "cell_type": "markdown",
      "metadata": {
        "id": "7BO4yIMgZ5wQ"
      },
      "source": [
        "## Loading language vectors"
      ]
    },
    {
      "cell_type": "code",
      "execution_count": null,
      "metadata": {
        "colab": {
          "base_uri": "https://localhost:8080/"
        },
        "id": "Bg2ieNB4fk3S",
        "outputId": "220ded25-82a6-45ce-c340-d303d4e84afb"
      },
      "outputs": [
        {
          "name": "stderr",
          "output_type": "stream",
          "text": [
            "Warning : `load_model` does not return WordVectorModel or SupervisedModel any more, but a `FastText` object which is very similar.\n"
          ]
        }
      ],
      "source": [
        "# Ukrainian language model\n",
        "\n",
        "model_uk = fasttext.load_model('cc.uk.300.bin')"
      ]
    },
    {
      "cell_type": "code",
      "execution_count": null,
      "metadata": {
        "colab": {
          "base_uri": "https://localhost:8080/"
        },
        "id": "dsi-c8-sQjNu",
        "outputId": "a1b6c1f2-19cd-4e5e-a611-d0c9048291a7"
      },
      "outputs": [
        {
          "name": "stderr",
          "output_type": "stream",
          "text": [
            "Warning : `load_model` does not return WordVectorModel or SupervisedModel any more, but a `FastText` object which is very similar.\n"
          ]
        }
      ],
      "source": [
        "# Polish language model\n",
        "\n",
        "model_pl = fasttext.load_model('cc.pl.300.bin')"
      ]
    },
    {
      "cell_type": "markdown",
      "metadata": {
        "id": "HnAxTASGbRFJ"
      },
      "source": [
        "## Vector exploration"
      ]
    },
    {
      "cell_type": "code",
      "execution_count": null,
      "metadata": {
        "colab": {
          "base_uri": "https://localhost:8080/",
          "height": 467
        },
        "id": "nLxsUuMpysFM",
        "outputId": "366047c6-0a5e-41b5-e34f-90a3df0079aa"
      },
      "outputs": [
        {
          "data": {
            "image/png": "[encoded data removed]",
            "text/plain": [
              "<Figure size 1000x600 with 1 Axes>"
            ]
          },
          "metadata": {},
          "output_type": "display_data"
        }
      ],
      "source": [
        "uk_vectors = [\"Варшава\", \"Познань\", \"Одеса\", \"Харків\", \"Вроцлав\",\"Ченстохова\", \"Київ\", \"стіна\", \"стеля\"]\n",
        "\n",
        "word_vectors_subset = [model_uk.get_word_vector(word) for word in uk_vectors]\n",
        "\n",
        "# Perform dimensionality reduction\n",
        "pca = PCA(n_components=2)  # Change to 3 for 3D visualization\n",
        "word_vectors_2d = pca.fit_transform(word_vectors_subset)\n",
        "\n",
        "# Create a scatter plot of the word vectors\n",
        "plt.figure(figsize=(10, 6))\n",
        "plt.scatter(word_vectors_2d[:, 0], word_vectors_2d[:, 1])\n",
        "\n",
        "\n",
        "# Add labels for each word\n",
        "for i, word in enumerate(uk_vectors):\n",
        "    plt.annotate(word, xy=(word_vectors_2d[i, 0], word_vectors_2d[i, 1]))\n",
        "\n",
        "# Show the plot\n",
        "plt.show()"
      ]
    },
    {
      "cell_type": "code",
      "execution_count": null,
      "metadata": {
        "colab": {
          "base_uri": "https://localhost:8080/",
          "height": 470
        },
        "id": "aq74Egeu0EEM",
        "outputId": "f64b8d49-4daf-4d60-fca9-a17ae2b93258"
      },
      "outputs": [
        {
          "data": {
            "image/png": "[encoded data removed]",
            "text/plain": [
              "<Figure size 1000x600 with 1 Axes>"
            ]
          },
          "metadata": {},
          "output_type": "display_data"
        }
      ],
      "source": [
        "pl_vectors = ['Kijów', 'Charków', 'Odessa', 'Warszawa', 'Wrocław', 'Częstochowa', 'Poznań', 'ściana', 'sufit']\n",
        "\n",
        "\n",
        "word_vectors_subset = [model_pl.get_word_vector(word) for word in pl_vectors]\n",
        "\n",
        "# Perform dimensionality reduction\n",
        "pca = PCA(n_components=2)  # Change to 3 for 3D visualization\n",
        "word_vectors_2d = pca.fit_transform(word_vectors_subset)\n",
        "\n",
        "# Create a scatter plot of the word vectors\n",
        "plt.figure(figsize=(10, 6))\n",
        "plt.scatter(word_vectors_2d[:, 0], word_vectors_2d[:, 1])\n",
        "\n",
        "\n",
        "# Add labels for each word\n",
        "for i, word in enumerate(pl_vectors):\n",
        "    plt.annotate(word, xy=(word_vectors_2d[i, 0], word_vectors_2d[i, 1]))\n",
        "\n",
        "# Show the plot\n",
        "plt.show()"
      ]
    },
    {
      "cell_type": "code",
      "execution_count": null,
      "metadata": {
        "colab": {
          "base_uri": "https://localhost:8080/"
        },
        "id": "Ztvw1IRHgkyk",
        "outputId": "4ec4101e-9f27-4894-edb4-2a88a01590f2"
      },
      "outputs": [
        {
          "data": {
            "text/plain": [
              "[(0.6619117259979248, 'Tarnopo'),\n",
              " (0.6609591841697693, 'Tarnopolskie'),\n",
              " (0.6594625115394592, 'Tarnopolski'),\n",
              " (0.6581240296363831, 'TarnopolNywa'),\n",
              " (0.6484225392341614, 'Lwów'),\n",
              " (0.6367254853248596, 'Żytomierz'),\n",
              " (0.6298438906669617, 'tarnopolski'),\n",
              " (0.6296219229698181, 'TarnopolFK'),\n",
              " (0.6280732154846191, 'Tarnopolskim'),\n",
              " (0.6194287538528442, 'Tarnopola'),\n",
              " (0.6168087124824524, 'WęgryTarnopol'),\n",
              " (0.61272794008255, 'Tarnopolu'),\n",
              " (0.6102651953697205, 'Brzeżany'),\n",
              " (0.6044431328773499, 'Rohatyn'),\n",
              " (0.59547358751297, 'Tarnopolskiem'),\n",
              " (0.5941257476806641, 'Złoczów'),\n",
              " (0.5906077027320862, 'Tarnopolska'),\n",
              " (0.5902125239372253, 'tarnopolskie'),\n",
              " (0.5867614150047302, 'Podhajce'),\n",
              " (0.5865432620048523, 'Żydaczów')]"
            ]
          },
          "execution_count": 14,
          "metadata": {},
          "output_type": "execute_result"
        }
      ],
      "source": [
        "model_pl.get_nearest_neighbors('Tarnopol', k=20)"
      ]
    },
    {
      "cell_type": "code",
      "execution_count": null,
      "metadata": {
        "colab": {
          "base_uri": "https://localhost:8080/"
        },
        "id": "V76Ka1YJlkmO",
        "outputId": "cc55a7a6-bcc4-4816-c459-795592bee8b8"
      },
      "outputs": [
        {
          "data": {
            "text/plain": [
              "(300,)"
            ]
          },
          "execution_count": 74,
          "metadata": {},
          "output_type": "execute_result"
        }
      ],
      "source": [
        "model_uk.get_word_vector('машина').shape"
      ]
    },
    {
      "cell_type": "code",
      "execution_count": null,
      "metadata": {
        "colab": {
          "base_uri": "https://localhost:8080/"
        },
        "id": "Lkwdwk2-l9ry",
        "outputId": "3dcd5015-1bde-4d0c-84d2-097c7c66fa2f"
      },
      "outputs": [
        {
          "data": {
            "text/plain": [
              "[(0.6110314130783081, 'Київ'),\n",
              " (0.6055029630661011, 'Москва'),\n",
              " (0.5506971478462219, 'Одеса'),\n",
              " (0.5502026081085205, 'Київ-Варшава'),\n",
              " (0.539129912853241, 'Харків-Варшава'),\n",
              " (0.5382523536682129, 'Київ-Нью-Йорк'),\n",
              " (0.5381291508674622, 'Львів-Варшава'),\n",
              " (0.5311408638954163, 'Європа'),\n",
              " (0.529330849647522, 'Україна2'),\n",
              " (0.5263713598251343, 'Київ-Прага')]"
            ]
          },
          "execution_count": 41,
          "metadata": {},
          "output_type": "execute_result"
        }
      ],
      "source": [
        "model_uk.get_analogies('Варшава', 'Польща', 'Україна')"
      ]
    },
    {
      "cell_type": "code",
      "execution_count": null,
      "metadata": {
        "colab": {
          "base_uri": "https://localhost:8080/"
        },
        "id": "JxOTeB4unUHv",
        "outputId": "e1844943-ef57-4905-bd71-4c109b40564a"
      },
      "outputs": [
        {
          "data": {
            "text/plain": [
              "[(0.6316195130348206, 'Токіо'),\n",
              " (0.5954586863517761, 'Кіото'),\n",
              " (0.5291852951049805, 'Токіо-Наріта'),\n",
              " (0.5268515348434448, 'Япон'),\n",
              " (0.5254097580909729, 'Хамамацу'),\n",
              " (0.5220339298248291, 'Нагоя'),\n",
              " (0.520989179611206, 'Кітакюсю'),\n",
              " (0.5202122330665588, 'Японіі'),\n",
              " (0.519186794757843, 'Токіомі'),\n",
              " (0.5158222913742065, 'Кобе')]"
            ]
          },
          "execution_count": 73,
          "metadata": {},
          "output_type": "execute_result"
        }
      ],
      "source": [
        "model_uk.get_analogies('Київ', 'Україна', 'Японія')"
      ]
    }
  ],
  "metadata": {
    "accelerator": "GPU",
    "colab": {
      "provenance": []
    },
    "gpuClass": "standard",
    "kernelspec": {
      "display_name": "Python 3",
      "name": "python3"
    },
    "language_info": {
      "name": "python"
    }
  },
  "nbformat": 4,
  "nbformat_minor": 0
}